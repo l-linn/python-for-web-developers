{
 "cells": [
  {
   "cell_type": "markdown",
   "id": "463eba1c",
   "metadata": {},
   "source": [
    "## Getting Started\n",
    "- Setting virtual environment\n",
    "\n",
    "    - `venv` to create the virtual environment. With the command: `python3 -m venv <folder> --prompt <name>`\n",
    "    - To active it, `source .venv/bin/activate`\n",
    "    source deactivate\n",
    "- Installing packages\n",
    "    - When we do `pip install`, pip looks for the package in `pypi.org`\n",
    "- Differences between OS\n",
    "    - Linux and Macos are the best when dealing with Python"
   ]
  },
  {
   "cell_type": "markdown",
   "id": "ff6bce59",
   "metadata": {},
   "source": [
    "## Data Types\n",
    "\n",
    "- String\n",
    "- Numeric\n",
    "    - Float\n",
    "    - Integer\n",
    "    - Decimal\n",
    "- Boolean\n",
    "- List\n",
    "- Tuple\n",
    "- Dict\n",
    "- Set"
   ]
  },
  {
   "cell_type": "code",
   "execution_count": 1,
   "id": "47dfea68",
   "metadata": {},
   "outputs": [
    {
     "data": {
      "text/plain": [
       "['__add__',\n",
       " '__class__',\n",
       " '__contains__',\n",
       " '__delattr__',\n",
       " '__dir__',\n",
       " '__doc__',\n",
       " '__eq__',\n",
       " '__format__',\n",
       " '__ge__',\n",
       " '__getattribute__',\n",
       " '__getitem__',\n",
       " '__getnewargs__',\n",
       " '__getstate__',\n",
       " '__gt__',\n",
       " '__hash__',\n",
       " '__init__',\n",
       " '__init_subclass__',\n",
       " '__iter__',\n",
       " '__le__',\n",
       " '__len__',\n",
       " '__lt__',\n",
       " '__mod__',\n",
       " '__mul__',\n",
       " '__ne__',\n",
       " '__new__',\n",
       " '__reduce__',\n",
       " '__reduce_ex__',\n",
       " '__repr__',\n",
       " '__rmod__',\n",
       " '__rmul__',\n",
       " '__setattr__',\n",
       " '__sizeof__',\n",
       " '__str__',\n",
       " '__subclasshook__',\n",
       " 'capitalize',\n",
       " 'casefold',\n",
       " 'center',\n",
       " 'count',\n",
       " 'encode',\n",
       " 'endswith',\n",
       " 'expandtabs',\n",
       " 'find',\n",
       " 'format',\n",
       " 'format_map',\n",
       " 'index',\n",
       " 'isalnum',\n",
       " 'isalpha',\n",
       " 'isascii',\n",
       " 'isdecimal',\n",
       " 'isdigit',\n",
       " 'isidentifier',\n",
       " 'islower',\n",
       " 'isnumeric',\n",
       " 'isprintable',\n",
       " 'isspace',\n",
       " 'istitle',\n",
       " 'isupper',\n",
       " 'join',\n",
       " 'ljust',\n",
       " 'lower',\n",
       " 'lstrip',\n",
       " 'maketrans',\n",
       " 'partition',\n",
       " 'removeprefix',\n",
       " 'removesuffix',\n",
       " 'replace',\n",
       " 'rfind',\n",
       " 'rindex',\n",
       " 'rjust',\n",
       " 'rpartition',\n",
       " 'rsplit',\n",
       " 'rstrip',\n",
       " 'split',\n",
       " 'splitlines',\n",
       " 'startswith',\n",
       " 'strip',\n",
       " 'swapcase',\n",
       " 'title',\n",
       " 'translate',\n",
       " 'upper',\n",
       " 'zfill']"
      ]
     },
     "execution_count": 1,
     "metadata": {},
     "output_type": "execute_result"
    }
   ],
   "source": [
    "# Get all methods\n",
    "dir('hello')\n"
   ]
  },
  {
   "cell_type": "code",
   "execution_count": 3,
   "id": "9ba3c74a",
   "metadata": {},
   "outputs": [],
   "source": [
    "# Check the docstring or documentation of specific string methods.\n",
    "str.split?"
   ]
  },
  {
   "cell_type": "code",
   "execution_count": 4,
   "id": "e22363a9",
   "metadata": {},
   "outputs": [
    {
     "data": {
      "text/plain": [
       "{3, 4, 5}"
      ]
     },
     "execution_count": 4,
     "metadata": {},
     "output_type": "execute_result"
    }
   ],
   "source": [
    "# List\n",
    "# Mutable\n",
    "[4,5,6]\n",
    "\n",
    "# Tuple\n",
    "# Immutable\n",
    "(4,5,6)\n",
    "\n",
    "# Dict\n",
    "# Uses keys to identify item\n",
    "{1: 3, 3: 4, 6: 7}\n",
    "\n",
    "# Set\n",
    "set() # empty set\n",
    "{3,4,5}"
   ]
  },
  {
   "cell_type": "code",
   "execution_count": 5,
   "id": "2fbb283d",
   "metadata": {},
   "outputs": [
    {
     "data": {
      "text/plain": [
       "{2, 3, 4, 5, 6, 7}"
      ]
     },
     "execution_count": 5,
     "metadata": {},
     "output_type": "execute_result"
    }
   ],
   "source": [
    "{2,3,2,2,2,2,4,5,6,7}"
   ]
  },
  {
   "cell_type": "code",
   "execution_count": 6,
   "id": "c12e452b",
   "metadata": {},
   "outputs": [
    {
     "data": {
      "text/plain": [
       "['__add__',\n",
       " '__class__',\n",
       " '__class_getitem__',\n",
       " '__contains__',\n",
       " '__delattr__',\n",
       " '__delitem__',\n",
       " '__dir__',\n",
       " '__doc__',\n",
       " '__eq__',\n",
       " '__format__',\n",
       " '__ge__',\n",
       " '__getattribute__',\n",
       " '__getitem__',\n",
       " '__getstate__',\n",
       " '__gt__',\n",
       " '__hash__',\n",
       " '__iadd__',\n",
       " '__imul__',\n",
       " '__init__',\n",
       " '__init_subclass__',\n",
       " '__iter__',\n",
       " '__le__',\n",
       " '__len__',\n",
       " '__lt__',\n",
       " '__mul__',\n",
       " '__ne__',\n",
       " '__new__',\n",
       " '__reduce__',\n",
       " '__reduce_ex__',\n",
       " '__repr__',\n",
       " '__reversed__',\n",
       " '__rmul__',\n",
       " '__setattr__',\n",
       " '__setitem__',\n",
       " '__sizeof__',\n",
       " '__str__',\n",
       " '__subclasshook__',\n",
       " 'append',\n",
       " 'clear',\n",
       " 'copy',\n",
       " 'count',\n",
       " 'extend',\n",
       " 'index',\n",
       " 'insert',\n",
       " 'pop',\n",
       " 'remove',\n",
       " 'reverse',\n",
       " 'sort']"
      ]
     },
     "execution_count": 6,
     "metadata": {},
     "output_type": "execute_result"
    }
   ],
   "source": [
    "dir([])"
   ]
  },
  {
   "cell_type": "code",
   "execution_count": 9,
   "id": "d7438f6f",
   "metadata": {},
   "outputs": [],
   "source": [
    "list.pop?"
   ]
  },
  {
   "cell_type": "markdown",
   "id": "3431f4ff",
   "metadata": {},
   "source": [
    "## Function\n",
    "\n",
    "```python\n",
    "def <func-name>(params): #function definition\n",
    "    # function body\n",
    "```\n",
    "\n",
    "- Parameters: `Input`\n",
    "    - Positional argument\n",
    "    - Key-word argument\n",
    "    - Positional only argument\n",
    "    - Key-word only argument\n",
    "    - packing and unpacking postional argument\n",
    "    - packing and unpacking key-word argument\n",
    "- Returns: `Output`"
   ]
  },
  {
   "cell_type": "code",
   "execution_count": 13,
   "id": "ddf5f7ce",
   "metadata": {},
   "outputs": [],
   "source": [
    "def test(x, y, *c, z=4, a=4, **d):\n",
    "    pass"
   ]
  },
  {
   "cell_type": "code",
   "execution_count": 14,
   "id": "9cebf8ba",
   "metadata": {},
   "outputs": [],
   "source": [
    "def test(x, y):\n",
    "    print(x, y)"
   ]
  },
  {
   "cell_type": "code",
   "execution_count": 15,
   "id": "108cfbad",
   "metadata": {},
   "outputs": [
    {
     "name": "stdout",
     "output_type": "stream",
     "text": [
      "3 4\n"
     ]
    }
   ],
   "source": [
    "data = [3,4]\n",
    "test(*data)"
   ]
  },
  {
   "cell_type": "code",
   "execution_count": 16,
   "id": "24190261",
   "metadata": {},
   "outputs": [],
   "source": [
    "def test(*x):\n",
    "    print(x)"
   ]
  },
  {
   "cell_type": "code",
   "execution_count": 17,
   "id": "59bba28e",
   "metadata": {},
   "outputs": [
    {
     "name": "stdout",
     "output_type": "stream",
     "text": [
      "(5, 10)\n"
     ]
    }
   ],
   "source": [
    "a = 5\n",
    "b = 10\n",
    "\n",
    "test(a, b)"
   ]
  },
  {
   "cell_type": "code",
   "execution_count": null,
   "id": "c6ecdced",
   "metadata": {},
   "outputs": [],
   "source": []
  }
 ],
 "metadata": {
  "kernelspec": {
   "display_name": "Python 3 (ipykernel)",
   "language": "python",
   "name": "python3"
  },
  "language_info": {
   "codemirror_mode": {
    "name": "ipython",
    "version": 3
   },
   "file_extension": ".py",
   "mimetype": "text/x-python",
   "name": "python",
   "nbconvert_exporter": "python",
   "pygments_lexer": "ipython3",
   "version": "3.11.5"
  }
 },
 "nbformat": 4,
 "nbformat_minor": 5
}
